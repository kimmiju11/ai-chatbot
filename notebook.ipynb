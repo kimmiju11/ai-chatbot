{
 "cells": [
  {
   "cell_type": "code",
   "execution_count": 22,
   "metadata": {},
   "outputs": [
    {
     "name": "stdout",
     "output_type": "stream",
     "text": [
      "Requirement already satisfied: langchain-aws==0.2.25 in .\\ai-env\\lib\\site-packages (0.2.25)\n",
      "Requirement already satisfied: boto3>=1.37.24 in .\\ai-env\\lib\\site-packages (from langchain-aws==0.2.25) (1.38.36)\n",
      "Requirement already satisfied: langchain-core<0.4.0,>=0.3.64 in .\\ai-env\\lib\\site-packages (from langchain-aws==0.2.25) (0.3.65)\n",
      "Requirement already satisfied: numpy<2,>=1 in .\\ai-env\\lib\\site-packages (from langchain-aws==0.2.25) (1.26.4)\n",
      "Requirement already satisfied: pydantic<3,>=2.10.0 in .\\ai-env\\lib\\site-packages (from langchain-aws==0.2.25) (2.11.6)\n",
      "Requirement already satisfied: langsmith<0.4,>=0.3.45 in .\\ai-env\\lib\\site-packages (from langchain-core<0.4.0,>=0.3.64->langchain-aws==0.2.25) (0.3.45)\n",
      "Requirement already satisfied: tenacity!=8.4.0,<10.0.0,>=8.1.0 in .\\ai-env\\lib\\site-packages (from langchain-core<0.4.0,>=0.3.64->langchain-aws==0.2.25) (9.1.2)\n",
      "Requirement already satisfied: jsonpatch<2.0,>=1.33 in .\\ai-env\\lib\\site-packages (from langchain-core<0.4.0,>=0.3.64->langchain-aws==0.2.25) (1.33)\n",
      "Requirement already satisfied: PyYAML>=5.3 in .\\ai-env\\lib\\site-packages (from langchain-core<0.4.0,>=0.3.64->langchain-aws==0.2.25) (6.0.2)\n",
      "Requirement already satisfied: packaging<25,>=23.2 in .\\ai-env\\lib\\site-packages (from langchain-core<0.4.0,>=0.3.64->langchain-aws==0.2.25) (24.2)\n",
      "Requirement already satisfied: typing-extensions>=4.7 in .\\ai-env\\lib\\site-packages (from langchain-core<0.4.0,>=0.3.64->langchain-aws==0.2.25) (4.14.0)\n",
      "Requirement already satisfied: jsonpointer>=1.9 in .\\ai-env\\lib\\site-packages (from jsonpatch<2.0,>=1.33->langchain-core<0.4.0,>=0.3.64->langchain-aws==0.2.25) (3.0.0)\n",
      "Requirement already satisfied: httpx<1,>=0.23.0 in .\\ai-env\\lib\\site-packages (from langsmith<0.4,>=0.3.45->langchain-core<0.4.0,>=0.3.64->langchain-aws==0.2.25) (0.28.1)\n",
      "Requirement already satisfied: orjson<4.0.0,>=3.9.14 in .\\ai-env\\lib\\site-packages (from langsmith<0.4,>=0.3.45->langchain-core<0.4.0,>=0.3.64->langchain-aws==0.2.25) (3.10.18)\n",
      "Requirement already satisfied: requests<3,>=2 in .\\ai-env\\lib\\site-packages (from langsmith<0.4,>=0.3.45->langchain-core<0.4.0,>=0.3.64->langchain-aws==0.2.25) (2.32.4)\n",
      "Requirement already satisfied: requests-toolbelt<2.0.0,>=1.0.0 in .\\ai-env\\lib\\site-packages (from langsmith<0.4,>=0.3.45->langchain-core<0.4.0,>=0.3.64->langchain-aws==0.2.25) (1.0.0)\n",
      "Requirement already satisfied: zstandard<0.24.0,>=0.23.0 in .\\ai-env\\lib\\site-packages (from langsmith<0.4,>=0.3.45->langchain-core<0.4.0,>=0.3.64->langchain-aws==0.2.25) (0.23.0)\n",
      "Requirement already satisfied: anyio in .\\ai-env\\lib\\site-packages (from httpx<1,>=0.23.0->langsmith<0.4,>=0.3.45->langchain-core<0.4.0,>=0.3.64->langchain-aws==0.2.25) (4.9.0)\n",
      "Requirement already satisfied: certifi in .\\ai-env\\lib\\site-packages (from httpx<1,>=0.23.0->langsmith<0.4,>=0.3.45->langchain-core<0.4.0,>=0.3.64->langchain-aws==0.2.25) (2025.4.26)\n",
      "Requirement already satisfied: httpcore==1.* in .\\ai-env\\lib\\site-packages (from httpx<1,>=0.23.0->langsmith<0.4,>=0.3.45->langchain-core<0.4.0,>=0.3.64->langchain-aws==0.2.25) (1.0.9)\n",
      "Requirement already satisfied: idna in .\\ai-env\\lib\\site-packages (from httpx<1,>=0.23.0->langsmith<0.4,>=0.3.45->langchain-core<0.4.0,>=0.3.64->langchain-aws==0.2.25) (3.10)\n",
      "Requirement already satisfied: h11>=0.16 in .\\ai-env\\lib\\site-packages (from httpcore==1.*->httpx<1,>=0.23.0->langsmith<0.4,>=0.3.45->langchain-core<0.4.0,>=0.3.64->langchain-aws==0.2.25) (0.16.0)\n",
      "Requirement already satisfied: annotated-types>=0.6.0 in .\\ai-env\\lib\\site-packages (from pydantic<3,>=2.10.0->langchain-aws==0.2.25) (0.7.0)\n",
      "Requirement already satisfied: pydantic-core==2.33.2 in .\\ai-env\\lib\\site-packages (from pydantic<3,>=2.10.0->langchain-aws==0.2.25) (2.33.2)\n",
      "Requirement already satisfied: typing-inspection>=0.4.0 in .\\ai-env\\lib\\site-packages (from pydantic<3,>=2.10.0->langchain-aws==0.2.25) (0.4.1)\n",
      "Requirement already satisfied: charset_normalizer<4,>=2 in .\\ai-env\\lib\\site-packages (from requests<3,>=2->langsmith<0.4,>=0.3.45->langchain-core<0.4.0,>=0.3.64->langchain-aws==0.2.25) (3.4.2)\n",
      "Requirement already satisfied: urllib3<3,>=1.21.1 in .\\ai-env\\lib\\site-packages (from requests<3,>=2->langsmith<0.4,>=0.3.45->langchain-core<0.4.0,>=0.3.64->langchain-aws==0.2.25) (2.4.0)\n",
      "Requirement already satisfied: botocore<1.39.0,>=1.38.36 in .\\ai-env\\lib\\site-packages (from boto3>=1.37.24->langchain-aws==0.2.25) (1.38.36)\n",
      "Requirement already satisfied: jmespath<2.0.0,>=0.7.1 in .\\ai-env\\lib\\site-packages (from boto3>=1.37.24->langchain-aws==0.2.25) (1.0.1)\n",
      "Requirement already satisfied: s3transfer<0.14.0,>=0.13.0 in .\\ai-env\\lib\\site-packages (from boto3>=1.37.24->langchain-aws==0.2.25) (0.13.0)\n",
      "Requirement already satisfied: python-dateutil<3.0.0,>=2.1 in .\\ai-env\\lib\\site-packages (from botocore<1.39.0,>=1.38.36->boto3>=1.37.24->langchain-aws==0.2.25) (2.9.0.post0)\n",
      "Requirement already satisfied: six>=1.5 in .\\ai-env\\lib\\site-packages (from python-dateutil<3.0.0,>=2.1->botocore<1.39.0,>=1.38.36->boto3>=1.37.24->langchain-aws==0.2.25) (1.17.0)\n",
      "Requirement already satisfied: sniffio>=1.1 in .\\ai-env\\lib\\site-packages (from anyio->httpx<1,>=0.23.0->langsmith<0.4,>=0.3.45->langchain-core<0.4.0,>=0.3.64->langchain-aws==0.2.25) (1.3.1)\n",
      "Note: you may need to restart the kernel to use updated packages.\n",
      "Requirement already satisfied: python-dotenv==1.1.0 in .\\ai-env\\lib\\site-packages (1.1.0)\n",
      "Note: you may need to restart the kernel to use updated packages.\n"
     ]
    }
   ],
   "source": [
    "# llm 호출 및 langchain의 프롬프트를 사용하기 위함\n",
    "%pip install langchain-aws==0.2.25\n",
    "\n",
    "# .env를 사용하기 위함\n",
    "%pip install python-dotenv==1.1.0"
   ]
  },
  {
   "cell_type": "code",
   "execution_count": 11,
   "metadata": {},
   "outputs": [],
   "source": [
    "from langchain_aws import ChatBedrock\n",
    "from dotenv import load_dotenv\n",
    "import os\n",
    "\n",
    "# .env 내용 불러오기\n",
    "load_dotenv(dotenv_path=\"../.env\")\n",
    "AWS_ACCESS_KEY_ID = os.getenv(\"AWS_ACCESS_KEY_ID\")\n",
    "AWS_SECRET_ACCESS_KEY = os.getenv(\"AWS_SECRET_ACCESS_KEY\")\n",
    "\n",
    "llm = ChatBedrock(\n",
    "    model_id=\"apac.anthropic.claude-3-7-sonnet-20250219-v1:0\",\n",
    "    model_kwargs=dict(temperature=0.1),\n",
    "    aws_access_key_id=AWS_ACCESS_KEY_ID,\n",
    "    aws_secret_access_key=AWS_SECRET_ACCESS_KEY,\n",
    "    region_name=\"ap-northeast-2\"  # 서울 리전\n",
    ")"
   ]
  },
  {
   "cell_type": "code",
   "execution_count": 18,
   "metadata": {},
   "outputs": [
    {
     "name": "stdout",
     "output_type": "stream",
     "text": [
      "content='안녕하세요! 어떻게 도와드릴까요? 질문이나 도움이 필요한 것이 있으시면 말씀해 주세요.' additional_kwargs={'usage': {'prompt_tokens': 15, 'completion_tokens': 56, 'cache_read_input_tokens': 0, 'cache_write_input_tokens': 0, 'total_tokens': 71}, 'stop_reason': 'end_turn', 'thinking': {}, 'model_id': 'apac.anthropic.claude-3-7-sonnet-20250219-v1:0', 'model_name': 'apac.anthropic.claude-3-7-sonnet-20250219-v1:0'} response_metadata={'usage': {'prompt_tokens': 15, 'completion_tokens': 56, 'cache_read_input_tokens': 0, 'cache_write_input_tokens': 0, 'total_tokens': 71}, 'stop_reason': 'end_turn', 'thinking': {}, 'model_id': 'apac.anthropic.claude-3-7-sonnet-20250219-v1:0', 'model_name': 'apac.anthropic.claude-3-7-sonnet-20250219-v1:0'} id='run--e322c652-be83-41a9-909e-4a0252c05449-0' usage_metadata={'input_tokens': 15, 'output_tokens': 56, 'total_tokens': 71, 'input_token_details': {'cache_creation': 0, 'cache_read': 0}}\n"
     ]
    }
   ],
   "source": [
    "response = llm.invoke(\"안녕하세요?\")\n",
    "print(response)"
   ]
  },
  {
   "cell_type": "code",
   "execution_count": 3,
   "metadata": {},
   "outputs": [
    {
     "name": "stdout",
     "output_type": "stream",
     "text": [
      "Note: you may need to restart the kernel to use updated packages.\n",
      "Note: you may need to restart the kernel to use updated packages.\n"
     ]
    }
   ],
   "source": [
    "# pdf파일을 로딩\n",
    "%pip install -q pypdf==5.6.0\n",
    "# langchain을 사용하기위함\n",
    "%pip install -q langchain_community==0.3.25"
   ]
  },
  {
   "cell_type": "code",
   "execution_count": 12,
   "metadata": {},
   "outputs": [
    {
     "name": "stdout",
     "output_type": "stream",
     "text": [
      "38\n"
     ]
    }
   ],
   "source": [
    "from langchain_community.document_loaders import PyPDFLoader\n",
    "\n",
    "loader = PyPDFLoader(\"doc/국민연금법.pdf\")\n",
    "docs = loader.load()\n",
    "pages = loader.load()\n",
    "\n",
    "print(len(pages))"
   ]
  },
  {
   "cell_type": "code",
   "execution_count": 22,
   "metadata": {},
   "outputs": [
    {
     "name": "stdout",
     "output_type": "stream",
     "text": [
      "Note: you may need to restart the kernel to use updated packages.\n"
     ]
    }
   ],
   "source": [
    "%pip install -q langchain-text-splitters==0.3.8"
   ]
  },
  {
   "cell_type": "code",
   "execution_count": 13,
   "metadata": {},
   "outputs": [],
   "source": [
    "#text spliter\n",
    "from langchain_text_splitters import RecursiveCharacterTextSplitter\n",
    "\n",
    "text_splitter = RecursiveCharacterTextSplitter(\n",
    "    chunk_size=1500,\n",
    "    chunk_overlap=200,\n",
    ")\n",
    "document_list=loader.load_and_split(text_splitter=text_splitter)"
   ]
  },
  {
   "cell_type": "code",
   "execution_count": 14,
   "metadata": {},
   "outputs": [],
   "source": [
    "# embedding\n",
    "from langchain_aws import BedrockEmbeddings\n",
    "\n",
    "bedrock_embeddings = BedrockEmbeddings(model_id=\"amazon.titan-embed-text-v2:0\")"
   ]
  },
  {
   "cell_type": "code",
   "execution_count": 21,
   "metadata": {},
   "outputs": [
    {
     "name": "stdout",
     "output_type": "stream",
     "text": [
      "Note: you may need to restart the kernel to use updated packages.\n"
     ]
    }
   ],
   "source": [
    "# chroma DB\n",
    "%pip install -q langchain-chroma==0.2.4"
   ]
  },
  {
   "cell_type": "code",
   "execution_count": 15,
   "metadata": {},
   "outputs": [],
   "source": [
    "from langchain_chroma import Chroma\n",
    "\n",
    "# 로컬 경로 지정\n",
    "local_path = \"vector\"\n",
    "\n",
    "database = Chroma.from_documents(\n",
    "    documents=document_list, \n",
    "    embedding=bedrock_embeddings, \n",
    "    persist_directory=local_path\n",
    "    )"
   ]
  },
  {
   "cell_type": "code",
   "execution_count": 16,
   "metadata": {},
   "outputs": [
    {
     "data": {
      "text/plain": [
       "[Document(id='1660704a-a073-4a1c-9211-ae8cb533bedb', metadata={'page': 3, 'source': 'doc/국민연금법.pdf', 'page_label': '4', 'moddate': '2025-02-25T23:58:24+09:00', 'total_pages': 38, 'producer': 'iText 2.1.7 by 1T3XT', 'creationdate': '2025-02-25T23:58:24+09:00', 'creator': 'PyPDF'}, page_content='6. 사업장가입자 또는 지역가입자의 자격을 취득한 때\\n7. 제6조 단서에 따른 국민연금 가입 대상 제외자에 해당하게 된 때\\n \\n제13조(임의계속가입자) ① 다음 각 호의 어느 하나에 해당하는 자는 제6조 본문에도 불구하고 65세가 될 때까지 보건\\n복지부령으로 정하는 바에 따라 국민연금공단에 가입을 신청하면 임의계속가입자가 될 수 있다. 이 경우 가입 신청\\n이 수리된 날에 그 자격을 취득한다. <개정 2008. 2. 29., 2010. 1. 18., 2011. 6. 7., 2011. 12. 31., 2015. 1. 28., 2016. 5.\\n29.>\\n1. 국민연금 가입자 또는 가입자였던 자로서 60세가 된 자. 다만, 다음 각 목의 어느 하나에 해당하는 자는 제외한다.\\n가. 연금보험료를 납부한 사실이 없는 자\\n나. 노령연금 수급권자로서 급여를 지급받고 있는 자\\n다. 제77조제1항제1호에 해당하는 사유로 반환일시금을 지급받은 자'),\n",
       " Document(id='8abefcc8-6d1d-4e22-a006-d5764d269cd4', metadata={'creationdate': '2025-02-25T23:58:24+09:00', 'creator': 'PyPDF', 'producer': 'iText 2.1.7 by 1T3XT', 'source': 'doc/국민연금법.pdf', 'page': 3, 'total_pages': 38, 'page_label': '4', 'moddate': '2025-02-25T23:58:24+09:00'}, page_content='6. 사업장가입자 또는 지역가입자의 자격을 취득한 때\\n7. 제6조 단서에 따른 국민연금 가입 대상 제외자에 해당하게 된 때\\n \\n제13조(임의계속가입자) ① 다음 각 호의 어느 하나에 해당하는 자는 제6조 본문에도 불구하고 65세가 될 때까지 보건\\n복지부령으로 정하는 바에 따라 국민연금공단에 가입을 신청하면 임의계속가입자가 될 수 있다. 이 경우 가입 신청\\n이 수리된 날에 그 자격을 취득한다. <개정 2008. 2. 29., 2010. 1. 18., 2011. 6. 7., 2011. 12. 31., 2015. 1. 28., 2016. 5.\\n29.>\\n1. 국민연금 가입자 또는 가입자였던 자로서 60세가 된 자. 다만, 다음 각 목의 어느 하나에 해당하는 자는 제외한다.\\n가. 연금보험료를 납부한 사실이 없는 자\\n나. 노령연금 수급권자로서 급여를 지급받고 있는 자\\n다. 제77조제1항제1호에 해당하는 사유로 반환일시금을 지급받은 자'),\n",
       " Document(id='35a2bf27-d7ac-473b-9f4e-cfcf417e9e29', metadata={'creationdate': '2025-02-25T23:58:24+09:00', 'page_label': '4', 'moddate': '2025-02-25T23:58:24+09:00', 'creator': 'PyPDF', 'page': 3, 'total_pages': 38, 'producer': 'iText 2.1.7 by 1T3XT', 'source': 'doc/국민연금법.pdf'}, page_content='6. 사업장가입자 또는 지역가입자의 자격을 취득한 때\\n7. 제6조 단서에 따른 국민연금 가입 대상 제외자에 해당하게 된 때\\n \\n제13조(임의계속가입자) ① 다음 각 호의 어느 하나에 해당하는 자는 제6조 본문에도 불구하고 65세가 될 때까지 보건\\n복지부령으로 정하는 바에 따라 국민연금공단에 가입을 신청하면 임의계속가입자가 될 수 있다. 이 경우 가입 신청\\n이 수리된 날에 그 자격을 취득한다. <개정 2008. 2. 29., 2010. 1. 18., 2011. 6. 7., 2011. 12. 31., 2015. 1. 28., 2016. 5.\\n29.>\\n1. 국민연금 가입자 또는 가입자였던 자로서 60세가 된 자. 다만, 다음 각 목의 어느 하나에 해당하는 자는 제외한다.\\n가. 연금보험료를 납부한 사실이 없는 자\\n나. 노령연금 수급권자로서 급여를 지급받고 있는 자\\n다. 제77조제1항제1호에 해당하는 사유로 반환일시금을 지급받은 자')]"
      ]
     },
     "execution_count": 16,
     "metadata": {},
     "output_type": "execute_result"
    }
   ],
   "source": [
    "query='국민연금의 수령 나이는 언제 인가요?'\n",
    "retrieved_docs = database.similarity_search(query=query, k=3)\n",
    "retrieved_docs"
   ]
  },
  {
   "cell_type": "code",
   "execution_count": 9,
   "metadata": {},
   "outputs": [
    {
     "name": "stdout",
     "output_type": "stream",
     "text": [
      "국민연금의 수령 나이에 대해 답변드리겠습니다.\n",
      "\n",
      "제공된 정보에 따르면, 국민연금 가입자는 일반적으로 60세가 되면 가입자 자격을 상실하게 됩니다. 이는 국민연금법 제12조에 명시되어 있습니다:\n",
      "\n",
      "- 사업장가입자: 제12조 제1항 제4호에 따라 \"60세가 된 때\" 자격 상실\n",
      "- 지역가입자: 제12조 제2항 제6호에 따라 \"60세가 된 때\" 자격 상실\n",
      "- 임의가입자: 제12조 제3항 제4호에 따라 \"60세가 된 때\" 자격 상실\n",
      "\n",
      "다만, 국민연금법 제13조에 따르면 임의계속가입자 제도가 있어, 다음 조건을 충족하는 경우 65세까지 계속해서 가입할 수 있습니다:\n",
      "- 국민연금 가입자 또는 가입자였던 자로서 60세가 된 자\n",
      "- 단, 다음에 해당하는 자는 제외:\n",
      "  - 연금보험료를 납부한 사실이 없는 자\n",
      "  - 노령연금 수급권자로서 급여를 지급받고 있는 자\n",
      "  - 제77조제1항제1호에 해당하는 사유로 반환일시금을 지급받은 자\n",
      "\n",
      "따라서 국민연금은 기본적으로 60세부터 수령할 수 있으며, 원하는 경우 65세까지 임의계속가입을 통해 가입 기간을 연장할 수 있습니다.\n",
      "\n",
      "관련 법령: 국민연금법 제12조(가입자 자격의 상실 시기), 제13조(임의계속가입자)\n"
     ]
    }
   ],
   "source": [
    "from langchain.prompts import PromptTemplate\n",
    "\n",
    "template = \"\"\"\"\"\"\n",
    "\n",
    "# PromptTemplate 정의\n",
    "template = \"\"\"[Identity]\n",
    "- 당신은 대한민국 국민연금 전문가입니다.\n",
    "- [Context]를 참고해서 사용자의 질문에 답변하세요.\n",
    "- 정보가 해당하는 법령도 포함해서 알려주세요.\n",
    "\n",
    "[Context]\n",
    "{docs}\n",
    "\n",
    "question : {question}\n",
    "\"\"\"\n",
    "\n",
    "prompt = PromptTemplate(\n",
    "    input_variables=[\"docs\", \"question\"],\n",
    "    template=template\n",
    ")\n",
    "\n",
    "question='국민연금의 수령 나이는 언제 인가요?'\n",
    "\n",
    "ret_doc = database.similarity_search(query=question, k=3)\n",
    "\n",
    "# 작성한 PromptTemplate에 문서와 질문을 삽입\n",
    "formatted_prompt = prompt.format(docs=ret_doc, question=question)\n",
    "\n",
    "# LLM에 프롬프트 전달 및 응답 받기\n",
    "response = llm.invoke(formatted_prompt)\n",
    "print(response.content)"
   ]
  },
  {
   "cell_type": "code",
   "execution_count": 17,
   "metadata": {},
   "outputs": [
    {
     "data": {
      "text/plain": [
       "{'question': '국민연금의 수령 나이는 언제 인가요?',\n",
       " 'chat_history': [HumanMessage(content='국민연금의 수령 나이는 언제 인가요?', additional_kwargs={}, response_metadata={}),\n",
       "  AIMessage(content='제공된 정보에 따르면, 국민연금의 수령 나이에 대한 명확한 정보는 없습니다. 다만, 국민연금법에서는 가입자 자격과 관련하여 다음과 같은 내용이 있습니다:\\n\\n1. 사업장가입자와 지역가입자는 60세가 된 때에 자격을 상실합니다(제12조 제1항 제4호, 제2항 제6호).\\n\\n2. 임의계속가입자의 경우, 국민연금 가입자 또는 가입자였던 자로서 60세가 된 자는 65세가 될 때까지 임의계속가입자가 될 수 있습니다(제13조 제1항).\\n\\n이를 통해 일반적인 국민연금 가입 자격은 60세까지이며, 임의계속가입을 통해 65세까지 연장할 수 있음을 알 수 있습니다. 그러나 실제 연금 수령 시작 나이에 대한 구체적인 정보는 제공된 자료에 명시되어 있지 않습니다.', additional_kwargs={}, response_metadata={})],\n",
       " 'answer': '제공된 정보에 따르면, 국민연금의 수령 나이에 대한 명확한 정보는 없습니다. 다만, 국민연금법에서는 가입자 자격과 관련하여 다음과 같은 내용이 있습니다:\\n\\n1. 사업장가입자와 지역가입자는 60세가 된 때에 자격을 상실합니다(제12조 제1항 제4호, 제2항 제6호).\\n\\n2. 임의계속가입자의 경우, 국민연금 가입자 또는 가입자였던 자로서 60세가 된 자는 65세가 될 때까지 임의계속가입자가 될 수 있습니다(제13조 제1항).\\n\\n이를 통해 일반적인 국민연금 가입 자격은 60세까지이며, 임의계속가입을 통해 65세까지 연장할 수 있음을 알 수 있습니다. 그러나 실제 연금 수령 시작 나이에 대한 구체적인 정보는 제공된 자료에 명시되어 있지 않습니다.'}"
      ]
     },
     "execution_count": 17,
     "metadata": {},
     "output_type": "execute_result"
    }
   ],
   "source": [
    "# Memory\n",
    " \n",
    "from langchain.memory import ConversationBufferMemory # 모든 대화내용 저장\n",
    "# from langchain.memory import ConversationBufferWindowMemory # 가장 최근 k개 저장\n",
    "from langchain.chains import ConversationalRetrievalChain\n",
    " \n",
    "memory = ConversationBufferMemory(memory_key=\"chat_history\", return_messages=True)\n",
    "# memory_w = ConversationBufferWindowMemory(memory_key=\"history\", return_messages=True, k=5)\n",
    "retriever = database.as_retriever()\n",
    "qa = ConversationalRetrievalChain.from_llm(llm=llm, retriever=retriever, memory=memory)\n",
    " \n",
    "qa(\"국민연금의 수령 나이는 언제 인가요?\")"
   ]
  },
  {
   "cell_type": "code",
   "execution_count": 18,
   "metadata": {},
   "outputs": [
    {
     "name": "stdout",
     "output_type": "stream",
     "text": [
      "# 국민연금 수령 나이 안내\n",
      "\n",
      "국민연금법에 따르면, 국민연금의 기본적인 수령 나이는 **60세**입니다. 이는 제12조(가입자 자격의 상실 시기)에서 확인할 수 있습니다.\n",
      "\n",
      "구체적으로:\n",
      "- 사업장가입자는 60세가 된 때 자격을 상실합니다(제12조 제1항 제4호)\n",
      "- 지역가입자도 60세가 된 때 자격을 상실합니다(제12조 제2항 제6호)\n",
      "- 임의가입자 역시 60세가 된 때 자격을 상실합니다(제12조 제3항 제4호)\n",
      "\n",
      "다만, 제13조(임의계속가입자)에 따르면, 국민연금 가입자 또는 가입자였던 자로서 60세가 된 자는 65세가 될 때까지 임의계속가입자로 가입을 신청할 수 있습니다. 단, 연금보험료를 납부한 사실이 없는 자, 노령연금 수급권자로서 급여를 지급받고 있는 자, 반환일시금을 지급받은 자는 제외됩니다.\n",
      "\n",
      "**관련 법령**: 국민연금법 제12조, 제13조\n",
      "**PDF 페이지 번호**: 4\n"
     ]
    }
   ],
   "source": [
    "from langchain.prompts import PromptTemplate\n",
    "from langchain.memory import ConversationBufferMemory\n",
    "from langchain.chains import ConversationalRetrievalChain\n",
    "\n",
    "# 질문을 위한 프롬프트 템플릿 생성\n",
    "# AI가 대화의 맥락을 이해하고 적절한 답변을 할수 있도록함\n",
    "CONDENSE_QUESTION_PROMPT = PromptTemplate.from_template(\"\"\"\n",
    "다음은 사람과 AI 어시스턴트의 친근한 대화입니다.\n",
    "\n",
    "대화 기록: {chat_history}\n",
    "인간: {question}\n",
    "\n",
    "AI 어시스턴트: 이전 대화를 고려하여 질문에 답변해 드리겠습니다.\n",
    "\"\"\")\n",
    "\n",
    "# QA를 위한 프롬프트 템플릿 생성\n",
    "QA_PROMPT = PromptTemplate.from_template(\"\"\"\n",
    "당신은 국민연금에 대해 전문적인 지식을 가진 상담사입니다.\n",
    "주어진 컨텍스트를 기반으로 질문에 명확하고 정확하게 답변해 주세요.\n",
    "정보가 해당하는 법령도 포함해서 알려주세요.\n",
    "정보를 찾은 PDF페이지 번호도 알려주세요.\n",
    "\n",
    "컨텍스트: {context}\n",
    "질문: {question}\n",
    "\n",
    "답변:\n",
    "\"\"\")\n",
    "\n",
    "# 메모리 설정\n",
    "memory = ConversationBufferMemory(\n",
    "    memory_key=\"chat_history\",\n",
    "    return_messages=True\n",
    ")\n",
    "retriever = database.as_retriever()\n",
    "\n",
    "# ConversationalRetrievalChain 생성 시 프롬프트 템플릿 적용\n",
    "qa = ConversationalRetrievalChain.from_llm(\n",
    "    llm=llm,\n",
    "    retriever=retriever,\n",
    "    memory=memory,\n",
    "    condense_question_prompt=CONDENSE_QUESTION_PROMPT,\n",
    "    combine_docs_chain_kwargs={'prompt': QA_PROMPT}\n",
    ")\n",
    "\n",
    "# 체인 실행\n",
    "result = qa.invoke({\n",
    "    \"question\": \"국민연금의 수령 나이는 언제 인가요?\"\n",
    "})\n",
    "print(result['answer'])"
   ]
  },
  {
   "cell_type": "code",
   "execution_count": 20,
   "metadata": {},
   "outputs": [
    {
     "name": "stdout",
     "output_type": "stream",
     "text": [
      "{'question': '70세 받고싶은데 가능한가요?', 'chat_history': [HumanMessage(content='국민연금의 수령 나이는 언제 인가요?', additional_kwargs={}, response_metadata={}), AIMessage(content='# 국민연금 수령 나이 안내\\n\\n국민연금법에 따르면, 국민연금의 기본적인 수령 나이는 **60세**입니다. 이는 제12조(가입자 자격의 상실 시기)에서 확인할 수 있습니다.\\n\\n구체적으로:\\n- 사업장가입자는 60세가 된 때 자격을 상실합니다(제12조 제1항 제4호)\\n- 지역가입자도 60세가 된 때 자격을 상실합니다(제12조 제2항 제6호)\\n- 임의가입자 역시 60세가 된 때 자격을 상실합니다(제12조 제3항 제4호)\\n\\n다만, 제13조(임의계속가입자)에 따르면, 국민연금 가입자 또는 가입자였던 자로서 60세가 된 자는 65세가 될 때까지 임의계속가입자로 가입을 신청할 수 있습니다. 단, 연금보험료를 납부한 사실이 없는 자, 노령연금 수급권자로서 급여를 지급받고 있는 자, 반환일시금을 지급받은 자는 제외됩니다.\\n\\n**관련 법령**: 국민연금법 제12조, 제13조\\n**PDF 페이지 번호**: 4', additional_kwargs={}, response_metadata={}), HumanMessage(content='70세 받고싶은데 가능해?', additional_kwargs={}, response_metadata={}), AIMessage(content='# 국민연금 수령 연기 가능 여부 안내\\n\\n안녕하세요, 국민연금 상담사입니다. 국민연금 수령 연기에 관한 질문에 답변드리겠습니다.\\n\\n## 국민연금 수령 연기 관련 정보\\n\\n국민연금법에 따르면, 노령연금 수급권자는 최대 65세까지만 연금 수령을 연기할 수 있습니다.\\n\\n- **법적 근거**: 국민연금법 제62조(지급의 연기에 따른 가산) 제1항\\n- **내용**: \"제61조에 따른 노령연금의 수급권자로서 60세 이상 65세 미만인 사람이 연금지급의 연기를 희망하는 경우에는 65세 전까지의 기간에 대하여 그 연금의 전부 또는 일부의 지급을 연기할 수 있다.\"\\n- **PDF 페이지**: 16페이지\\n\\n또한, 임의계속가입자의 경우에도 최대 65세까지만 가입이 가능합니다.\\n\\n- **법적 근거**: 국민연금법 제13조(임의계속가입자) 제1항\\n- **내용**: \"다음 각 호의 어느 하나에 해당하는 자는 제6조 본문에도 불구하고 65세가 될 때까지 보건복지부령으로 정하는 바에 따라 국민연금공단에 가입을 신청하면 임의계속가입자가 될 수 있다.\"\\n- **PDF 페이지**: 16페이지\\n\\n## 결론\\n\\n현행 국민연금법상 70세까지 연금 수령을 미루는 것은 불가능합니다. 연금 수령 연기는 최대 65세까지만 가능하며, 65세가 되면 반드시 연금을 수령해야 합니다.\\n\\n추가 문의사항이 있으시면 말씀해 주세요.', additional_kwargs={}, response_metadata={}), HumanMessage(content='70세 받고싶은데 가능한가요?', additional_kwargs={}, response_metadata={}), AIMessage(content='# 국민연금 70세 수령 가능 여부 안내\\n\\n안녕하세요. 국민연금 상담사입니다. 국민연금을 70세에 받고 싶으신 문의에 대해 답변드립니다.\\n\\n## 국민연금 수령 연기 한도\\n\\n현행 국민연금법상 **70세까지 연금 수령을 미루는 것은 불가능합니다**. 국민연금법에 따르면:\\n\\n- 노령연금 수급권자로서 60세 이상 65세 미만인 사람은 연금지급의 연기를 희망하는 경우 **65세 전까지의 기간**에 대하여 연금의 전부 또는 일부의 지급을 연기할 수 있습니다.\\n- 65세가 되면 연금 지급 연기가 종료되고 반드시 연금을 수령해야 합니다.\\n\\n## 법적 근거\\n- **국민연금법 제62조(지급의 연기에 따른 가산) 제1항**\\n  - \"제61조에 따른 노령연금의 수급권자로서 60세 이상 65세 미만인 사람(특수직종근로자는 55세 이상 60세 미만인 사람)이 연금지급의 연기를 희망하는 경우에는 65세(특수직종근로자는 60세) 전까지의 기간에 대하여 그 연금의 전부 또는 일부의 지급을 연기할 수 있다.\"\\n- PDF 페이지 번호: 16\\n\\n따라서 65세가 되면 반드시 연금을 수령하셔야 하며, 70세까지 미루는 것은 법적으로 허용되지 않습니다.\\n\\n더 자세한 정보나 다른 문의사항이 있으시면 말씀해 주세요.', additional_kwargs={}, response_metadata={})], 'answer': '# 국민연금 70세 수령 가능 여부 안내\\n\\n안녕하세요. 국민연금 상담사입니다. 국민연금을 70세에 받고 싶으신 문의에 대해 답변드립니다.\\n\\n## 국민연금 수령 연기 한도\\n\\n현행 국민연금법상 **70세까지 연금 수령을 미루는 것은 불가능합니다**. 국민연금법에 따르면:\\n\\n- 노령연금 수급권자로서 60세 이상 65세 미만인 사람은 연금지급의 연기를 희망하는 경우 **65세 전까지의 기간**에 대하여 연금의 전부 또는 일부의 지급을 연기할 수 있습니다.\\n- 65세가 되면 연금 지급 연기가 종료되고 반드시 연금을 수령해야 합니다.\\n\\n## 법적 근거\\n- **국민연금법 제62조(지급의 연기에 따른 가산) 제1항**\\n  - \"제61조에 따른 노령연금의 수급권자로서 60세 이상 65세 미만인 사람(특수직종근로자는 55세 이상 60세 미만인 사람)이 연금지급의 연기를 희망하는 경우에는 65세(특수직종근로자는 60세) 전까지의 기간에 대하여 그 연금의 전부 또는 일부의 지급을 연기할 수 있다.\"\\n- PDF 페이지 번호: 16\\n\\n따라서 65세가 되면 반드시 연금을 수령하셔야 하며, 70세까지 미루는 것은 법적으로 허용되지 않습니다.\\n\\n더 자세한 정보나 다른 문의사항이 있으시면 말씀해 주세요.'}\n"
     ]
    }
   ],
   "source": [
    "result = qa.invoke({\n",
    "    \"question\": \"70세 받고싶은데 가능한가요?\"\n",
    "})\n",
    "# print(result)\n",
    "print(result['answer'])"
   ]
  }
 ],
 "metadata": {
  "kernelspec": {
   "display_name": "ai-env",
   "language": "python",
   "name": "python3"
  },
  "language_info": {
   "codemirror_mode": {
    "name": "ipython",
    "version": 3
   },
   "file_extension": ".py",
   "mimetype": "text/x-python",
   "name": "python",
   "nbconvert_exporter": "python",
   "pygments_lexer": "ipython3",
   "version": "3.11.2"
  }
 },
 "nbformat": 4,
 "nbformat_minor": 2
}
